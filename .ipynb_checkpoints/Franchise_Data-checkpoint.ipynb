{
 "cells": [
  {
   "cell_type": "markdown",
   "metadata": {},
   "source": [
    "## Capstone: Fast Food Franchise Strategic Placement in Kota Bandung, West Java, Indonesia\n",
    "By Muhammad Ariqleesta Hidayat"
   ]
  },
  {
   "cell_type": "markdown",
   "metadata": {},
   "source": [
    "### Data Requirements:\n",
    "#### 1. Urban Data Postal Code\n",
    "This data is for everyone whoever wants to accesss. \n",
    "https://kodeposku.com/kodepos.csv"
   ]
  },
  {
   "cell_type": "markdown",
   "metadata": {},
   "source": [
    "#### 2. Sub-District Population Data\n",
    "This data will be used to determine how impactful is the sub-district toward the growth of franchise. http://data.bandung.go.id/dataset/79261e57-18fd-4d53-859e-971231f098d3/resource/498da194-30b0-4f55-8ddf-930e0d9c6953/download/tahun-2020-s1---jumlah-kepadatan-penduduk.csv"
   ]
  },
  {
   "cell_type": "markdown",
   "metadata": {},
   "source": [
    "#### 3. Urban District GeoJSON Data\n",
    "This data will be used to determine the boundaries of administrative area for each sub-district.\n",
    "https://git.bandung.go.id/opendatabdg/databdg/raw/master/resources/625/b2c/3273-kota-bandung-level-kecamatan.json"
   ]
  },
  {
   "cell_type": "markdown",
   "metadata": {},
   "source": [
    "#### 4. Fast Food Restaurant Venues Data\n",
    "To gather this data, we need to perform API calls from https://api.foursquare.com."
   ]
  },
  {
   "cell_type": "markdown",
   "metadata": {},
   "source": [
    "#### 5. Happiness Index Data\n",
    "http://data.bandung.go.id/dataset/96badd37-30e6-4a1c-922f-d6e3ee0587f3/resource/6134811e-6d89-45c6-965d-f58477a0b281/download/ik-berdasarkan-aspek-dan-kecamatan-2017.csv"
   ]
  },
  {
   "cell_type": "markdown",
   "metadata": {},
   "source": [
    "#### 6. Sub-District Population Sallary Related to Happiness Index Data\n",
    "From here, we can get actual data of average salary for each sub-district from extrapolating on Happiness Index Data.\n",
    "http://data.bandung.go.id/dataset/f934a63c-110f-4748-a099-1d0ce98bf3d4/resource/25f84b3f-9793-4f11-b79c-99924da66a35/download/ik-berdasarkan-pendapatan-rumah-tangga-2018.csv\n"
   ]
  }
 ],
 "metadata": {
  "kernelspec": {
   "display_name": "Python 3",
   "language": "python",
   "name": "python3"
  },
  "language_info": {
   "codemirror_mode": {
    "name": "ipython",
    "version": 3
   },
   "file_extension": ".py",
   "mimetype": "text/x-python",
   "name": "python",
   "nbconvert_exporter": "python",
   "pygments_lexer": "ipython3",
   "version": "3.8.5"
  }
 },
 "nbformat": 4,
 "nbformat_minor": 4
}
