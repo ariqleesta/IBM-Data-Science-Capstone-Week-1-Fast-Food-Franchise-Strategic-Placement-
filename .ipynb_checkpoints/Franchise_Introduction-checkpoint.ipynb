{
 "cells": [
  {
   "cell_type": "markdown",
   "metadata": {},
   "source": [
    "## Capstone: Fast Food Franchise Strategic Placement in Kota Bandung, West Java, Indonesia\n",
    "By Muhammad Ariqleesta Hidayat"
   ]
  },
  {
   "cell_type": "markdown",
   "metadata": {},
   "source": [
    "### Introduction:\n",
    "\n",
    "Owning a fast food franchise is one of the best choice for living with promising income. Not only owners does not need to pivoting around advertising and marketing, but also forgo to get hands dirty on product development and quality control. However, it can be a costly venture. Let's say McDonalds. In indonesia, you must have at least Rp 14,500,000,000 (equivalent to $ 1,000,000). Because the cost are unimaginably high, we need to consider the strategic decision to place our franchise to get the best possible outcome that leads to optimum amount of profit."
   ]
  },
  {
   "cell_type": "markdown",
   "metadata": {},
   "source": [
    "### Problem Description:\n",
    "Where would be the best place in Bandung, Indonesia to start fast food franchise considering the socio-demographic data of the population in districts."
   ]
  },
  {
   "cell_type": "markdown",
   "metadata": {},
   "source": [
    "### Requirements:"
   ]
  },
  {
   "cell_type": "markdown",
   "metadata": {},
   "source": [
    "This project will adapt the following requirements:\n",
    "1. Franchise needs to be located in the middle of concentrated area (denser population, culinary area, great in land use and support daily activity)\n",
    "2. Franchise needs to be located in the districts that have large amount of social interactions and daily activities based on socio-demographic data\n",
    "3. In order to segmenting the districts, it is needed to perform clustering based on the specifications above."
   ]
  },
  {
   "cell_type": "markdown",
   "metadata": {},
   "source": [
    "Franchises those will be my main focus are:\n",
    "1. McDonald's\n",
    "2. KFC\n",
    "3. Burger King\n",
    "4. Pizza Hut\n",
    "5. Domino's Pizza"
   ]
  }
 ],
 "metadata": {
  "kernelspec": {
   "display_name": "Python 3",
   "language": "python",
   "name": "python3"
  },
  "language_info": {
   "codemirror_mode": {
    "name": "ipython",
    "version": 3
   },
   "file_extension": ".py",
   "mimetype": "text/x-python",
   "name": "python",
   "nbconvert_exporter": "python",
   "pygments_lexer": "ipython3",
   "version": "3.8.5"
  }
 },
 "nbformat": 4,
 "nbformat_minor": 4
}
